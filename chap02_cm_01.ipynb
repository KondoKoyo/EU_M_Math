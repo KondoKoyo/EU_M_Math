{
  "nbformat": 4,
  "nbformat_minor": 0,
  "metadata": {
    "colab": {
      "provenance": [],
      "authorship_tag": "ABX9TyOlCMok5MSSlctvfxenKtpZ",
      "include_colab_link": true
    },
    "kernelspec": {
      "name": "python3",
      "display_name": "Python 3"
    },
    "language_info": {
      "name": "python"
    }
  },
  "cells": [
    {
      "cell_type": "markdown",
      "metadata": {
        "id": "view-in-github",
        "colab_type": "text"
      },
      "source": [
        "<a href=\"https://colab.research.google.com/github/KondoKoyo/EU_M_Math/blob/main/chap02_cm_01.ipynb\" target=\"_parent\"><img src=\"https://colab.research.google.com/assets/colab-badge.svg\" alt=\"Open In Colab\"/></a>"
      ]
    },
    {
      "cell_type": "code",
      "execution_count": null,
      "metadata": {
        "colab": {
          "base_uri": "https://localhost:8080/"
        },
        "id": "hMqr8PVt-ou0",
        "outputId": "32399d26-e918-4512-e382-b8fea7e257c5"
      },
      "outputs": [
        {
          "output_type": "stream",
          "name": "stdout",
          "text": [
            "[0.2221673  0.87723967 0.39425918 ... 0.03331032 0.47260145 0.67965631]\n",
            "[0.01116625 0.88390385 0.45697953 ... 0.18589546 0.05565099 0.46659856]\n"
          ]
        }
      ],
      "source": [
        "import numpy as np\n",
        "# import numpy.random as random\n",
        "# import scipy as sp\n",
        "# import pandas as pd\n",
        "# from pandas import Series,DataFrame\n",
        "\n",
        "# import matplotlib.pyplot as plt\n",
        "# import matplotlib as mp1\n",
        "# import seaborn as sns\n",
        "%matplotlib inline\n",
        "\n",
        "a = np.random.uniform(0.0 , 1.0 , 10000 )\n",
        "b = np.random.uniform(0.0 , 1.0 , 10000 )\n",
        "\n",
        "print(a)\n",
        "print(b)\n"
      ]
    },
    {
      "cell_type": "code",
      "source": [],
      "metadata": {
        "id": "JL9-ZZRyCMkx"
      },
      "execution_count": null,
      "outputs": []
    }
  ]
}