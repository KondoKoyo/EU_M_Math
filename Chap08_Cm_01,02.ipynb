{
  "nbformat": 4,
  "nbformat_minor": 0,
  "metadata": {
    "colab": {
      "provenance": [],
      "authorship_tag": "ABX9TyMwFC3h6oIAJXC5DxIPvs/m",
      "include_colab_link": true
    },
    "kernelspec": {
      "name": "python3",
      "display_name": "Python 3"
    },
    "language_info": {
      "name": "python"
    }
  },
  "cells": [
    {
      "cell_type": "markdown",
      "metadata": {
        "id": "view-in-github",
        "colab_type": "text"
      },
      "source": [
        "<a href=\"https://colab.research.google.com/github/KondoKoyo/EU_M_Math/blob/main/Chap08_Cm_01%2C02.ipynb\" target=\"_parent\"><img src=\"https://colab.research.google.com/assets/colab-badge.svg\" alt=\"Open In Colab\"/></a>"
      ]
    },
    {
      "cell_type": "code",
      "source": [
        "#8-1\n",
        "print('回帰：連続的な値を予測するタスク')\n",
        "print('分類: データを複数のカテゴリに分類するタスク')\n",
        "print('教師あり学習:入力データと正解ラベルのペアを用いてモデルを学習させる手法')\n",
        "print('重回帰分析:複数の説明変数を使って回帰分析を行う手法')\n",
        "print('ロジスティック回帰分析:確率の推定を行う手法')\n",
        "print('正則化:過学習を防ぐ手法')\n",
        "print('リッジ回帰:モデルのパラメータの2乗和をペナルティ項とする')\n",
        "print('ラッソ回帰:モデルのパラメータの絶対値の和をペナルティ項とする')\n",
        "print('決定木:分類にも回帰にも使われる手法、入力データに基づいて、一連の条件分岐を用いて教師ラベルを予測する')\n",
        "print('エントロピー:確率分布の不確実性を示す指標')\n",
        "print('情報利得:ある属性がデータの分類に役立つ度合いを表す指標')\n",
        "print('k-NH法:分類と回帰にも使われる手法、未知のデータに対して、k個の最近傍データのラベルに基づいて教師ラベルを予測する')\n",
        "print('SVM :分類で使われる手法')\n",
        "print('ノーフリーランチ:万能な学習アルゴリズムは存在しないこと')\n"
      ],
      "metadata": {
        "colab": {
          "base_uri": "https://localhost:8080/"
        },
        "id": "zAS9IcnKzLrU",
        "outputId": "af21e648-0030-413a-c85e-d0b772d956c0"
      },
      "execution_count": 4,
      "outputs": [
        {
          "output_type": "stream",
          "name": "stdout",
          "text": [
            "回帰：連続的な値を予測するタスク\n",
            "分類: データを複数のカテゴリに分類するタスク\n",
            "教師あり学習:入力データと正解ラベルのペアを用いてモデルを学習させる手法\n",
            "重回帰分析:複数の説明変数を使って回帰分析を行う手法\n",
            "ロジスティック回帰分析:確率の推定を行う手法\n",
            "正則化:過学習を防ぐ手法\n",
            "リッジ回帰:モデルのパラメータの2乗和をペナルティ項とする\n",
            "ラッソ回帰:モデルのパラメータの絶対値の和をペナルティ項とする\n",
            "決定木:分類にも回帰にも使われる手法、入力データに基づいて、一連の条件分岐を用いて教師ラベルを予測する\n",
            "エントロピー:確率分布の不確実性を示す指標\n",
            "情報利得:ある属性がデータの分類に役立つ度合いを表す指標\n",
            "k-NH法:分類と回帰にも使われる手法、未知のデータに対して、k個の最近傍データのラベルに基づいて教師ラベルを予測する\n",
            "SVM :分類で使われる手法\n",
            "ノーフリーランチ:万能な学習アルゴリズムは存在しないこと\n"
          ]
        }
      ]
    },
    {
      "cell_type": "code",
      "execution_count": null,
      "metadata": {
        "id": "V_RybvJ0xgc-"
      },
      "outputs": [],
      "source": [
        "# 8-2\n",
        "import numpy as np\n",
        "import numpy.random as random\n",
        "import scipy as sp\n",
        "from pandas import Series,DataFrame\n",
        "import pandas as pd\n",
        "\n",
        "import matplotlib.pyplot as plt\n",
        "import matplotlib as mpl\n",
        "import seaborn as sns\n",
        "%matplotlib inline\n",
        "\n",
        "import sklearn\n",
        "\n",
        "%precision 3"
      ]
    },
    {
      "cell_type": "code",
      "source": [
        "# 8-2\n",
        "\n",
        "from sklearn.datasets import load_iris\n",
        "from sklearn.tree import DecisionTreeClassifier\n",
        "from sklearn.model_selection import train_test_split\n",
        "\n",
        "iris = load_iris()\n",
        "X_train , X_test , y_train , y_test = train_test_split(iris.data,iris.target,stratify = iris.target,random_state=0)\n",
        "\n",
        "model = DecisionTreeClassifier(criterion = 'entropy',max_depth=3,random_state=0)\n",
        "model.fit(X_train,y_train)\n",
        "\n",
        "print('正答率(train):{:.3f}'.format(model.score(X_train,y_train)))\n",
        "print('正答率(test):{:.3f}'.format(model.score(X_test,y_test)))"
      ],
      "metadata": {
        "colab": {
          "base_uri": "https://localhost:8080/"
        },
        "id": "l_IDuUJlx1eW",
        "outputId": "0fca17f1-f3f5-49b4-dcd3-f006f8a62dc4"
      },
      "execution_count": 3,
      "outputs": [
        {
          "output_type": "stream",
          "name": "stdout",
          "text": [
            "正答率(train):0.964\n",
            "正答率(test):0.947\n"
          ]
        }
      ]
    }
  ]
}