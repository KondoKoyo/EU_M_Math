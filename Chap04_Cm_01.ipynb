{
  "nbformat": 4,
  "nbformat_minor": 0,
  "metadata": {
    "colab": {
      "provenance": [],
      "authorship_tag": "ABX9TyOt0aRb6dCLaKcaAwu7d1UG",
      "include_colab_link": true
    },
    "kernelspec": {
      "name": "python3",
      "display_name": "Python 3"
    },
    "language_info": {
      "name": "python"
    }
  },
  "cells": [
    {
      "cell_type": "markdown",
      "metadata": {
        "id": "view-in-github",
        "colab_type": "text"
      },
      "source": [
        "<a href=\"https://colab.research.google.com/github/KondoKoyo/EU_M_Math/blob/main/Chap04_Cm_01.ipynb\" target=\"_parent\"><img src=\"https://colab.research.google.com/assets/colab-badge.svg\" alt=\"Open In Colab\"/></a>"
      ]
    },
    {
      "cell_type": "code",
      "execution_count": 1,
      "metadata": {
        "colab": {
          "base_uri": "https://localhost:8080/"
        },
        "id": "lcLyT5rqksKD",
        "outputId": "5248a2dd-3acb-45d0-de50-58d3d1a5f915"
      },
      "outputs": [
        {
          "output_type": "stream",
          "name": "stdout",
          "text": [
            "数学の欠席数平均： 5.319371727748691\n",
            "ポルトガル語の欠席数平均： 3.6727748691099475\n",
            "p値= 2.3441656888384195e-06\n"
          ]
        }
      ],
      "source": [
        "from urllib import request\n",
        "import numpy as np\n",
        "import scipy as sp\n",
        "import pandas as pd\n",
        "from pandas  import Series,DataFrame\n",
        "\n",
        "import matplotlib.pyplot as plt\n",
        "import matplotlib as mpl\n",
        "import seaborn as sns\n",
        "sns.set()\n",
        "%matplotlib inline\n",
        "%precision 3\n",
        "\n",
        "import requests, zipfile\n",
        "from io import StringIO\n",
        "import io\n",
        "\n",
        "# from sklearn import  liner_model\n",
        "url = 'https://archive.ics.uci.edu/ml/machine-learning-databases/00356/student.zip'\n",
        "\n",
        "r= requests.get(url,stream=True)\n",
        "z = zipfile.ZipFile(io.BytesIO(r.content))\n",
        "z.extractall()\n",
        "\n",
        "student_data_math = pd.read_csv('student-mat.csv',sep=';')\n",
        "student_data_por =  pd.read_csv('student-por.csv',sep=';')\n",
        "student_data_merge = pd.merge(student_data_math,student_data_por,on = ['school','sex','age','address','famsize','Pstatus','Medu','Fedu','Mjob','Fjob','reason','nursery','internet'],how = 'inner',suffixes = ('_math','_por'))\n",
        "from scipy import stats\n",
        "print('数学の欠席数平均：',student_data_merge.absences_math.mean())\n",
        "print('ポルトガル語の欠席数平均：',student_data_merge.absences_por.mean())\n",
        "\n",
        "t,p = stats.ttest_rel(student_data_merge.absences_math,student_data_merge.absences_por)\n",
        "print('p値=',p)"
      ]
    }
  ]
}