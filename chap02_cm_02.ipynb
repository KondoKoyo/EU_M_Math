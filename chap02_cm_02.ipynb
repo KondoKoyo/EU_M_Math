{
  "nbformat": 4,
  "nbformat_minor": 0,
  "metadata": {
    "colab": {
      "provenance": [],
      "authorship_tag": "ABX9TyP67diLsA5SDxdwFYFgoWft",
      "include_colab_link": true
    },
    "kernelspec": {
      "name": "python3",
      "display_name": "Python 3"
    },
    "language_info": {
      "name": "python"
    }
  },
  "cells": [
    {
      "cell_type": "markdown",
      "metadata": {
        "id": "view-in-github",
        "colab_type": "text"
      },
      "source": [
        "<a href=\"https://colab.research.google.com/github/KondoKoyo/EU_M_Math/blob/main/chap02_cm_02.ipynb\" target=\"_parent\"><img src=\"https://colab.research.google.com/assets/colab-badge.svg\" alt=\"Open In Colab\"/></a>"
      ]
    },
    {
      "cell_type": "code",
      "execution_count": null,
      "metadata": {
        "colab": {
          "base_uri": "https://localhost:8080/"
        },
        "id": "hMqr8PVt-ou0",
        "outputId": "9bae11c7-243f-454b-e4d3-412d239abcb0"
      },
      "outputs": [
        {
          "output_type": "stream",
          "name": "stdout",
          "text": [
            "7880\n"
          ]
        }
      ],
      "source": [
        "import numpy as np\n",
        "import numpy.random as random\n",
        "import scipy as sp\n",
        "import pandas as pd\n",
        "from pandas import Series,DataFrame\n",
        "\n",
        "import matplotlib.pyplot as plt\n",
        "import matplotlib as mp1\n",
        "import seaborn as sns\n",
        "import math\n",
        "%matplotlib inline\n",
        "\n",
        "X = np.random.uniform(0.0 , 1.0 , 10000 )\n",
        "Y = np.random.uniform(0.0 , 1.0 , 10000 )\n",
        "\n",
        "in_X = []\n",
        "in_Y = []\n",
        "\n",
        "b=0\n",
        "for i in range(10000):\n",
        "  a = math.hypot( X[i] , Y[i] )\n",
        "  if a < 1:\n",
        "    in_X.append(X[i])\n",
        "    b +=1\n",
        "\n",
        "print(b)\n",
        "\n",
        "\n",
        "\n",
        "\n"
      ]
    },
    {
      "cell_type": "code",
      "source": [],
      "metadata": {
        "id": "JL9-ZZRyCMkx"
      },
      "execution_count": null,
      "outputs": []
    }
  ]
}