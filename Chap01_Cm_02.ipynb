{
  "nbformat": 4,
  "nbformat_minor": 0,
  "metadata": {
    "colab": {
      "provenance": [],
      "authorship_tag": "ABX9TyNjsY7U6km3DXCmZa8TFIQH",
      "include_colab_link": true
    },
    "kernelspec": {
      "name": "python3",
      "display_name": "Python 3"
    },
    "language_info": {
      "name": "python"
    }
  },
  "cells": [
    {
      "cell_type": "markdown",
      "metadata": {
        "id": "view-in-github",
        "colab_type": "text"
      },
      "source": [
        "<a href=\"https://colab.research.google.com/github/KondoKoyo/EU_M_Math/blob/main/Chap01_Cm_02.ipynb\" target=\"_parent\"><img src=\"https://colab.research.google.com/assets/colab-badge.svg\" alt=\"Open In Colab\"/></a>"
      ]
    },
    {
      "cell_type": "code",
      "execution_count": 1,
      "metadata": {
        "colab": {
          "base_uri": "https://localhost:8080/"
        },
        "id": "XLCkR2pLLVxT",
        "outputId": "e9d03f3c-f471-4e7f-8ab0-3365f0aacb28"
      },
      "outputs": [
        {
          "output_type": "stream",
          "name": "stdout",
          "text": [
            "2\n",
            "3\n",
            "5\n",
            "7\n"
          ]
        }
      ],
      "source": [
        "def primenum(N):\n",
        "    if N <=1:\n",
        "        return False\n",
        "    if N == 2 or N==3:\n",
        "        return True\n",
        "    if N % 2 ==0 or N % 3 ==0:\n",
        "        return False\n",
        "    i = 5\n",
        "    while i * i <= N:\n",
        "        if N % i == 0 or N % (i+2) == 0:\n",
        "            return False\n",
        "        i+=6\n",
        "    return True\n",
        "\n",
        "a = 10    #10までの場合\n",
        "for N in range(2,a+1):\n",
        "    if primenum(N):\n",
        "        print(N)\n"
      ]
    }
  ]
}