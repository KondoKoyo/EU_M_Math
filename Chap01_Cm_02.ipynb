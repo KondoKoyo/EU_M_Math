{
  "nbformat": 4,
  "nbformat_minor": 0,
  "metadata": {
    "colab": {
      "provenance": [],
      "authorship_tag": "ABX9TyMzroYFUbg7S+c6nUvrWTHz",
      "include_colab_link": true
    },
    "kernelspec": {
      "name": "python3",
      "display_name": "Python 3"
    },
    "language_info": {
      "name": "python"
    }
  },
  "cells": [
    {
      "cell_type": "markdown",
      "metadata": {
        "id": "view-in-github",
        "colab_type": "text"
      },
      "source": [
        "<a href=\"https://colab.research.google.com/github/KondoKoyo/EU_M_Math/blob/main/Chap01_Cm_02.ipynb\" target=\"_parent\"><img src=\"https://colab.research.google.com/assets/colab-badge.svg\" alt=\"Open In Colab\"/></a>"
      ]
    },
    {
      "cell_type": "code",
      "execution_count": 9,
      "metadata": {
        "colab": {
          "base_uri": "https://localhost:8080/"
        },
        "id": "XLCkR2pLLVxT",
        "outputId": "2f4154b5-78bb-4edd-e141-09929bb00b76"
      },
      "outputs": [
        {
          "output_type": "stream",
          "name": "stdout",
          "text": [
            "2\n",
            "3\n",
            "5\n",
            "7\n"
          ]
        }
      ],
      "source": [
        "def primenum(N):\n",
        "    if N == 2 or N==3:\n",
        "        return True\n",
        "    if N % 2 ==0 or N % 3 ==0:\n",
        "        return False\n",
        "    i = 5\n",
        "    while i * i <= N:\n",
        "        if N % i == 0 or N % (i+2) == 0:\n",
        "            return False\n",
        "        i+=1\n",
        "    return True\n",
        "\n",
        "a = 10  #10までの場合\n",
        "for N in range(2,a+1):\n",
        "    if primenum(N):\n",
        "        print(N)\n"
      ]
    }
  ]
}