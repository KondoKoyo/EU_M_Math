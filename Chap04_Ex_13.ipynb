{
  "nbformat": 4,
  "nbformat_minor": 0,
  "metadata": {
    "colab": {
      "provenance": [],
      "authorship_tag": "ABX9TyOlwvssLGNTTShI60ds/Yke",
      "include_colab_link": true
    },
    "kernelspec": {
      "name": "python3",
      "display_name": "Python 3"
    },
    "language_info": {
      "name": "python"
    }
  },
  "cells": [
    {
      "cell_type": "markdown",
      "metadata": {
        "id": "view-in-github",
        "colab_type": "text"
      },
      "source": [
        "<a href=\"https://colab.research.google.com/github/KondoKoyo/EU_M_Math/blob/main/Chap04_Ex_13.ipynb\" target=\"_parent\"><img src=\"https://colab.research.google.com/assets/colab-badge.svg\" alt=\"Open In Colab\"/></a>"
      ]
    },
    {
      "cell_type": "code",
      "execution_count": 5,
      "metadata": {
        "colab": {
          "base_uri": "https://localhost:8080/"
        },
        "id": "PemBP1LnTJ1Z",
        "outputId": "e72d0ca6-44f8-47fc-c3c2-52ea7f4afaa7"
      },
      "outputs": [
        {
          "output_type": "stream",
          "name": "stdout",
          "text": [
            "G2数学の成績平均： 10.712041884816754\n",
            "G2ポルトガル語の成績平均： 12.238219895287958\n",
            "p値= 4.0622824801348625e-19\n"
          ]
        }
      ],
      "source": [
        "from urllib import request\n",
        "import numpy as np\n",
        "import scipy as sp\n",
        "import pandas as pd\n",
        "from pandas  import Series,DataFrame\n",
        "\n",
        "import matplotlib.pyplot as plt\n",
        "import matplotlib as mpl\n",
        "import seaborn as sns\n",
        "sns.set()\n",
        "%matplotlib inline\n",
        "%precision 3\n",
        "\n",
        "import requests, zipfile\n",
        "from io import StringIO\n",
        "import io\n",
        "\n",
        "# from sklearn import  liner_model\n",
        "url = 'https://archive.ics.uci.edu/ml/machine-learning-databases/00356/student.zip'\n",
        "\n",
        "r= requests.get(url,stream=True)\n",
        "z = zipfile.ZipFile(io.BytesIO(r.content))\n",
        "z.extractall()\n",
        "\n",
        "student_data_math = pd.read_csv('student-mat.csv',sep=';')\n",
        "student_data_por =  pd.read_csv('student-por.csv',sep=';')\n",
        "student_data_merge = pd.merge(student_data_math,student_data_por,on = ['school','sex','age','address','famsize','Pstatus','Medu','Fedu','Mjob','Fjob','reason','nursery','internet'],how = 'inner',suffixes = ('_math','_por'))\n",
        "from scipy import stats\n",
        "print('G2数学の成績平均：',student_data_merge.G2_math.mean())\n",
        "print('G2ポルトガル語の成績平均：',student_data_merge.G2_por.mean())\n",
        "\n",
        "t,p = stats.ttest_rel(student_data_merge.G2_math,student_data_merge.G2_por)\n",
        "print('p値=',p)\n",
        "\n"
      ]
    },
    {
      "cell_type": "code",
      "source": [
        "\n",
        "\n",
        "student_data_math = pd.read_csv('student-mat.csv',sep=';')\n",
        "student_data_por =  pd.read_csv('student-por.csv',sep=';')\n",
        "student_data_merge = pd.merge(student_data_math,student_data_por,on = ['school','sex','age','address','famsize','Pstatus','Medu','Fedu','Mjob','Fjob','reason','nursery','internet'],how = 'inner',suffixes = ('_math','_por'))\n",
        "from scipy import stats\n",
        "print('G3数学の成績平均：',student_data_merge.G3_math.mean())\n",
        "print('G3ポルトガル語の成績平均：',student_data_merge.G3_por.mean())\n",
        "\n",
        "t,p = stats.ttest_rel(student_data_merge.G3_math,student_data_merge.G3_por)\n",
        "print('p値=',p)\n",
        "\n"
      ],
      "metadata": {
        "colab": {
          "base_uri": "https://localhost:8080/"
        },
        "id": "mqO5404DkZ65",
        "outputId": "2348915d-0279-4047-87b9-2aace481cd60"
      },
      "execution_count": 6,
      "outputs": [
        {
          "output_type": "stream",
          "name": "stdout",
          "text": [
            "G3数学の成績平均： 10.387434554973822\n",
            "G3ポルトガル語の成績平均： 12.515706806282722\n",
            "p値= 5.561492113688385e-21\n"
          ]
        }
      ]
    },
    {
      "cell_type": "markdown",
      "source": [],
      "metadata": {
        "id": "dO9nGH-rDnIk"
      }
    }
  ]
}