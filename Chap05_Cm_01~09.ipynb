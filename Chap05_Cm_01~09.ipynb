{
  "nbformat": 4,
  "nbformat_minor": 0,
  "metadata": {
    "colab": {
      "provenance": [],
      "authorship_tag": "ABX9TyPsfkXzmves93ED28lT61jc",
      "include_colab_link": true
    },
    "kernelspec": {
      "name": "python3",
      "display_name": "Python 3"
    },
    "language_info": {
      "name": "python"
    }
  },
  "cells": [
    {
      "cell_type": "markdown",
      "metadata": {
        "id": "view-in-github",
        "colab_type": "text"
      },
      "source": [
        "<a href=\"https://colab.research.google.com/github/KondoKoyo/EU_M_Math/blob/main/Chap05_Cm_01~09.ipynb\" target=\"_parent\"><img src=\"https://colab.research.google.com/assets/colab-badge.svg\" alt=\"Open In Colab\"/></a>"
      ]
    },
    {
      "cell_type": "code",
      "execution_count": 4,
      "metadata": {
        "colab": {
          "base_uri": "https://localhost:8080/",
          "height": 35
        },
        "id": "FQhz1zd1JrKJ",
        "outputId": "3f092792-995e-4221-b01e-8a73d69244a9"
      },
      "outputs": [
        {
          "output_type": "execute_result",
          "data": {
            "text/plain": [
              "'%.3f'"
            ],
            "application/vnd.google.colaboratory.intrinsic+json": {
              "type": "string"
            }
          },
          "metadata": {},
          "execution_count": 4
        }
      ],
      "source": [
        "import numpy as np\n",
        "import numpy.random as random\n",
        "import scipy as sp\n",
        "\n",
        "import matplotlib.pyplot as plt\n",
        "import matplotlib as mp1\n",
        "%matplotlib inline\n",
        "%precision 3\n"
      ]
    },
    {
      "cell_type": "code",
      "source": [
        "sample_array = np.arange(10)\n",
        "print('sample_array:',sample_array)"
      ],
      "metadata": {
        "colab": {
          "base_uri": "https://localhost:8080/"
        },
        "id": "FNKmq5__Kb54",
        "outputId": "532ecbd6-0ddf-42ee-a1f6-d4748972231b"
      },
      "execution_count": 5,
      "outputs": [
        {
          "output_type": "stream",
          "name": "stdout",
          "text": [
            "sample_array: [0 1 2 3 4 5 6 7 8 9]\n"
          ]
        }
      ]
    },
    {
      "cell_type": "code",
      "source": [
        "print(sample_array)\n",
        "sample_array_slice = sample_array[0:5]\n",
        "print(sample_array_slice)"
      ],
      "metadata": {
        "colab": {
          "base_uri": "https://localhost:8080/"
        },
        "id": "RVxM6v1LNO3n",
        "outputId": "24dcba12-c10f-49b3-d43e-d48c3e3eaf0f"
      },
      "execution_count": 6,
      "outputs": [
        {
          "output_type": "stream",
          "name": "stdout",
          "text": [
            "[0 1 2 3 4 5 6 7 8 9]\n",
            "[0 1 2 3 4]\n"
          ]
        }
      ]
    },
    {
      "cell_type": "code",
      "source": [
        "sample_array_slice[0:3] = 10\n",
        "print(sample_array_slice)\n",
        "print(sample_array)"
      ],
      "metadata": {
        "colab": {
          "base_uri": "https://localhost:8080/"
        },
        "id": "Doa_aX3BNpNZ",
        "outputId": "bcebffcd-799a-4dda-aa02-5bf22ae0d072"
      },
      "execution_count": 7,
      "outputs": [
        {
          "output_type": "stream",
          "name": "stdout",
          "text": [
            "[10 10 10  3  4]\n",
            "[10 10 10  3  4  5  6  7  8  9]\n"
          ]
        }
      ]
    },
    {
      "cell_type": "code",
      "source": [
        "sample_array_copy = np.copy(sample_array)\n",
        "print(sample_array_copy)\n",
        "\n",
        "sample_array_copy[0:3] = 20\n",
        "print(sample_array_copy)\n",
        "print(sample_array)\n"
      ],
      "metadata": {
        "colab": {
          "base_uri": "https://localhost:8080/"
        },
        "id": "6nzbss4pN8yD",
        "outputId": "91e9d6fc-8e70-4330-d41a-06edb78c6468"
      },
      "execution_count": 8,
      "outputs": [
        {
          "output_type": "stream",
          "name": "stdout",
          "text": [
            "[10 10 10  3  4  5  6  7  8  9]\n",
            "[20 20 20  3  4  5  6  7  8  9]\n",
            "[10 10 10  3  4  5  6  7  8  9]\n"
          ]
        }
      ]
    },
    {
      "cell_type": "code",
      "source": [
        "sample_names = np.array(['a','b','c','d','a'])\n",
        "random.seed(0)\n",
        "data = random.randn(5,5)\n",
        "\n",
        "print(sample_names)\n",
        "print(data)\n"
      ],
      "metadata": {
        "colab": {
          "base_uri": "https://localhost:8080/"
        },
        "id": "HWGlAVhYOawv",
        "outputId": "5c31b0de-4eb5-4c92-831d-76d1ac55aa25"
      },
      "execution_count": 9,
      "outputs": [
        {
          "output_type": "stream",
          "name": "stdout",
          "text": [
            "['a' 'b' 'c' 'd' 'a']\n",
            "[[ 1.764  0.4    0.979  2.241  1.868]\n",
            " [-0.977  0.95  -0.151 -0.103  0.411]\n",
            " [ 0.144  1.454  0.761  0.122  0.444]\n",
            " [ 0.334  1.494 -0.205  0.313 -0.854]\n",
            " [-2.553  0.654  0.864 -0.742  2.27 ]]\n"
          ]
        }
      ]
    },
    {
      "cell_type": "code",
      "source": [],
      "metadata": {
        "id": "fEJ9ZZnOQxVI"
      },
      "execution_count": null,
      "outputs": []
    },
    {
      "cell_type": "code",
      "source": [
        "sample_names == 'a'"
      ],
      "metadata": {
        "colab": {
          "base_uri": "https://localhost:8080/"
        },
        "id": "XcBDZpIzPHTU",
        "outputId": "5b9f1b00-49c0-4b14-c342-2815d5f33913"
      },
      "execution_count": null,
      "outputs": [
        {
          "output_type": "execute_result",
          "data": {
            "text/plain": [
              "array([ True, False, False, False,  True])"
            ]
          },
          "metadata": {},
          "execution_count": 11
        }
      ]
    },
    {
      "cell_type": "code",
      "source": [
        "data[sample_names == 'a']\n"
      ],
      "metadata": {
        "colab": {
          "base_uri": "https://localhost:8080/"
        },
        "id": "6sE_aGcKPQjM",
        "outputId": "2cee9d83-1898-4bb8-ff0c-866fbd6f244f"
      },
      "execution_count": 10,
      "outputs": [
        {
          "output_type": "execute_result",
          "data": {
            "text/plain": [
              "array([[ 1.764,  0.4  ,  0.979,  2.241,  1.868],\n",
              "       [-2.553,  0.654,  0.864, -0.742,  2.27 ]])"
            ]
          },
          "metadata": {},
          "execution_count": 10
        }
      ]
    },
    {
      "cell_type": "code",
      "source": [
        "cond_data = np.array([True,True,False,False,True])\n",
        "\n",
        "x_array = np.array([1,2,3,4,5])\n",
        "y_array = np.array([100,200,300,400,500])\n",
        "print(np.where(cond_data,x_array,y_array))"
      ],
      "metadata": {
        "colab": {
          "base_uri": "https://localhost:8080/"
        },
        "id": "rfW3wwgsPiJo",
        "outputId": "3c72945f-3ac1-4931-8001-ffa64053d2d3"
      },
      "execution_count": null,
      "outputs": [
        {
          "output_type": "stream",
          "name": "stdout",
          "text": [
            "[  1   2 300 400   5]\n"
          ]
        }
      ]
    },
    {
      "cell_type": "code",
      "source": [
        "sample_names = np.array(['a','b','c','d','a'])\n",
        "random.seed(0)\n",
        "data = random.randn(5,5)\n",
        "# print(sample_names)\n",
        "# print(data)\n",
        "print(data[sample_names=='b']) #練習問題5-1\n",
        "sample_names = np.array(['a','a','c','a','a'])#練習問題5-2\n",
        "print(data[sample_names=='a'] )\n",
        "\n",
        "x_array = np.array([1,2,3,4,5])\n",
        "y_array = np.array([6,7,8,9,10])\n",
        "cond_data = np.array([False,False,True,True,False])\n",
        "print(np.where(cond_data,x_array,y_array))     #練習問題5-3\n"
      ],
      "metadata": {
        "colab": {
          "base_uri": "https://localhost:8080/"
        },
        "id": "2JJuOA9MQV6t",
        "outputId": "5a4a3f3e-e6db-4e8b-c912-1e92ef44429f"
      },
      "execution_count": 11,
      "outputs": [
        {
          "output_type": "stream",
          "name": "stdout",
          "text": [
            "[[-0.977  0.95  -0.151 -0.103  0.411]]\n",
            "[[ 1.764  0.4    0.979  2.241  1.868]\n",
            " [-0.977  0.95  -0.151 -0.103  0.411]\n",
            " [ 0.334  1.494 -0.205  0.313 -0.854]\n",
            " [-2.553  0.654  0.864 -0.742  2.27 ]]\n",
            "[ 6  7  3  4 10]\n"
          ]
        }
      ]
    },
    {
      "cell_type": "code",
      "source": [
        "cond_data = np.array([True,True,False,False,True])\n",
        "print(cond_data)\n",
        "\n",
        "print(np.unique(cond_data))"
      ],
      "metadata": {
        "colab": {
          "base_uri": "https://localhost:8080/"
        },
        "id": "yc5fUQExUnnu",
        "outputId": "8606ba4c-5cc2-45a2-cef5-3cd5f82eded6"
      },
      "execution_count": 12,
      "outputs": [
        {
          "output_type": "stream",
          "name": "stdout",
          "text": [
            "[ True  True False False  True]\n",
            "[False  True]\n"
          ]
        }
      ]
    },
    {
      "cell_type": "code",
      "source": [
        "sample_data = np.arange(10)\n",
        "print('元のデータ：',sample_data)\n",
        "print('すべての要素の平方根：',np.sqrt(sample_data))\n",
        "print('すべての要素のネイビア指数関数:',np.exp(sample_data))\n"
      ],
      "metadata": {
        "colab": {
          "base_uri": "https://localhost:8080/"
        },
        "id": "SPo2sMMgVZ__",
        "outputId": "67438293-7015-4bc0-ac7d-331446603092"
      },
      "execution_count": 13,
      "outputs": [
        {
          "output_type": "stream",
          "name": "stdout",
          "text": [
            "元のデータ： [0 1 2 3 4 5 6 7 8 9]\n",
            "すべての要素の平方根： [0.    1.    1.414 1.732 2.    2.236 2.449 2.646 2.828 3.   ]\n",
            "すべての要素のネイビア指数関数: [1.000e+00 2.718e+00 7.389e+00 2.009e+01 5.460e+01 1.484e+02 4.034e+02\n",
            " 1.097e+03 2.981e+03 8.103e+03]\n"
          ]
        }
      ]
    },
    {
      "cell_type": "code",
      "source": [
        "sample_multi_array_datal = np.arange(9).reshape(3,3)\n",
        "print('最小値:',sample_multi_array_datal.min())\n",
        "print('最大値:',sample_multi_array_datal.max())\n",
        "print('平均:',sample_multi_array_datal.mean())\n",
        "print('合計:',sample_multi_array_datal.sum())\n",
        "\n",
        "print('行の合計:',sample_multi_array_datal.sum(axis =1))\n",
        "print('列の合計:',sample_multi_array_datal.sum(axis = 0))\n"
      ],
      "metadata": {
        "colab": {
          "base_uri": "https://localhost:8080/"
        },
        "id": "79kNAyWGWISW",
        "outputId": "da436542-f90b-4319-f2c7-9c2f7ff77272"
      },
      "execution_count": 14,
      "outputs": [
        {
          "output_type": "stream",
          "name": "stdout",
          "text": [
            "最小値: 0\n",
            "最大値: 8\n",
            "平均: 4.0\n",
            "合計: 36\n",
            "行の合計: [ 3 12 21]\n",
            "列の合計: [ 9 12 15]\n"
          ]
        }
      ]
    },
    {
      "cell_type": "code",
      "source": [
        "conda_data = np.array([True,True,False,False,True])\n",
        "print('Trueが少なくとも１つあるかどうか：',conda_data.any())\n",
        "print('すべてTrueかどうか：',cond_data.all())\n",
        "\n"
      ],
      "metadata": {
        "colab": {
          "base_uri": "https://localhost:8080/"
        },
        "id": "kFXEA7GTXMYx",
        "outputId": "ec3fa581-1df8-431c-aaea-50fb9798db34"
      },
      "execution_count": 15,
      "outputs": [
        {
          "output_type": "stream",
          "name": "stdout",
          "text": [
            "Trueが少なくとも１つあるかどうか： True\n",
            "すべてTrueかどうか： False\n"
          ]
        }
      ]
    },
    {
      "cell_type": "code",
      "source": [
        "sample_multi_array_datal = np.arange(9).reshape(3,3)\n",
        "print(sample_multi_array_datal)\n",
        "print('５より大きい数字がいくつあるか：',(sample_multi_array_datal>5).sum())\n"
      ],
      "metadata": {
        "colab": {
          "base_uri": "https://localhost:8080/"
        },
        "id": "__aODpomX0ul",
        "outputId": "f76da322-4895-4280-ce6f-dfc825a9e93b"
      },
      "execution_count": 16,
      "outputs": [
        {
          "output_type": "stream",
          "name": "stdout",
          "text": [
            "[[0 1 2]\n",
            " [3 4 5]\n",
            " [6 7 8]]\n",
            "５より大きい数字がいくつあるか： 3\n"
          ]
        }
      ]
    },
    {
      "cell_type": "code",
      "source": [
        "sample_multi_array_datal = np.arange(9).reshape(3,3)\n",
        "print(sample_multi_array_datal)\n",
        "print('対角成分：',np.diag(sample_multi_array_datal))\n",
        "print('対角成分の和',np.trace(sample_multi_array_datal))\n"
      ],
      "metadata": {
        "colab": {
          "base_uri": "https://localhost:8080/"
        },
        "id": "tszEWc39ZC3o",
        "outputId": "4f192111-47ec-4b40-efa9-ab6e3c8aad8a"
      },
      "execution_count": 17,
      "outputs": [
        {
          "output_type": "stream",
          "name": "stdout",
          "text": [
            "[[0 1 2]\n",
            " [3 4 5]\n",
            " [6 7 8]]\n",
            "対角成分： [0 4 8]\n",
            "対角成分の和 12\n"
          ]
        }
      ]
    },
    {
      "cell_type": "code",
      "source": [
        "sample_multi_array_datal2 = np.arange(16).reshape(4,4)\n",
        "sample_multi_array_datal2\n",
        "print('平方根：',np.sqrt(sample_multi_array_datal2))   #練習問題5-4\n",
        "print('最小値:',sample_multi_array_datal2.min())     #練習問題5-5\n",
        "print('最大値:',sample_multi_array_datal2.max())\n",
        "print('平均:',sample_multi_array_datal2.mean())\n",
        "print('合計:',sample_multi_array_datal2.sum())\n",
        "\n",
        "print('対角成分の和',np.trace(sample_multi_array_datal2))  #練習問題5-6\n",
        "\n"
      ],
      "metadata": {
        "colab": {
          "base_uri": "https://localhost:8080/"
        },
        "id": "chaAs7sjZ0Ic",
        "outputId": "82249e80-8ec2-443e-aeb0-71edd52e5eb7"
      },
      "execution_count": 18,
      "outputs": [
        {
          "output_type": "stream",
          "name": "stdout",
          "text": [
            "平方根： [[0.    1.    1.414 1.732]\n",
            " [2.    2.236 2.449 2.646]\n",
            " [2.828 3.    3.162 3.317]\n",
            " [3.464 3.606 3.742 3.873]]\n",
            "最小値: 0\n",
            "最大値: 15\n",
            "平均: 7.5\n",
            "合計: 120\n",
            "対角成分の和 30\n"
          ]
        }
      ]
    },
    {
      "cell_type": "code",
      "source": [
        "sample_array1 = np.arange(12).reshape(3,4)  #練習問題5-7\n",
        "sample_array2 = np.arange(12).reshape(3,4)\n",
        "\n",
        "print(np.concatenate([sample_array1,sample_array2],axis=0))  #練習問題5-8\n",
        "print(np.concatenate([sample_array1,sample_array2],axis=1))\n",
        "\n",
        "\n",
        "\n"
      ],
      "metadata": {
        "colab": {
          "base_uri": "https://localhost:8080/"
        },
        "id": "MozGrk_Ra5wS",
        "outputId": "39933f59-621f-42dc-d122-a3284bb1e510"
      },
      "execution_count": 19,
      "outputs": [
        {
          "output_type": "stream",
          "name": "stdout",
          "text": [
            "[[ 0  1  2  3]\n",
            " [ 4  5  6  7]\n",
            " [ 8  9 10 11]\n",
            " [ 0  1  2  3]\n",
            " [ 4  5  6  7]\n",
            " [ 8  9 10 11]]\n",
            "[[ 0  1  2  3  0  1  2  3]\n",
            " [ 4  5  6  7  4  5  6  7]\n",
            " [ 8  9 10 11  8  9 10 11]]\n"
          ]
        }
      ]
    },
    {
      "cell_type": "code",
      "source": [
        "sample_list = np.array([1,2,3,4,5])    #練習問題5-9\n",
        "sample_list+3\n"
      ],
      "metadata": {
        "colab": {
          "base_uri": "https://localhost:8080/"
        },
        "id": "ba0Lq2NFc8dk",
        "outputId": "9d1b370b-b642-4511-e2d7-59e2bfa8e59a"
      },
      "execution_count": 20,
      "outputs": [
        {
          "output_type": "execute_result",
          "data": {
            "text/plain": [
              "array([4, 5, 6, 7, 8])"
            ]
          },
          "metadata": {},
          "execution_count": 20
        }
      ]
    }
  ]
}