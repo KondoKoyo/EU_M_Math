{
  "nbformat": 4,
  "nbformat_minor": 0,
  "metadata": {
    "colab": {
      "provenance": [],
      "authorship_tag": "ABX9TyPKt2zqvS9kJYaDe45c5Dx4",
      "include_colab_link": true
    },
    "kernelspec": {
      "name": "python3",
      "display_name": "Python 3"
    },
    "language_info": {
      "name": "python"
    }
  },
  "cells": [
    {
      "cell_type": "markdown",
      "metadata": {
        "id": "view-in-github",
        "colab_type": "text"
      },
      "source": [
        "<a href=\"https://colab.research.google.com/github/KondoKoyo/EU_M_Math/blob/main/Chap01_Cm_01.ipynb\" target=\"_parent\"><img src=\"https://colab.research.google.com/assets/colab-badge.svg\" alt=\"Open In Colab\"/></a>"
      ]
    },
    {
      "cell_type": "code",
      "execution_count": null,
      "metadata": {
        "colab": {
          "base_uri": "https://localhost:8080/"
        },
        "id": "6m8vVc0EKpUU",
        "outputId": "f95a97be-67f7-41b9-ea21-44ce24e1d936"
      },
      "outputs": [
        {
          "output_type": "stream",
          "name": "stdout",
          "text": [
            "2\n",
            "3\n",
            "5\n",
            "7\n"
          ]
        }
      ],
      "source": [
        "for i in range(2, 11):\n",
        "    if i == 2 or i == 3 or i == 5 or i == 7:\n",
        "        print(i)\n",
        "    elif i % 2 != 0 and i % 3 != 0 and i % 5 != 0 and i % 7 != 0:\n",
        "        print(i)\n"
      ]
    }
  ]
}