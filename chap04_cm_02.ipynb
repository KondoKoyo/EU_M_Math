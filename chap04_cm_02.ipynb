{
  "nbformat": 4,
  "nbformat_minor": 0,
  "metadata": {
    "colab": {
      "provenance": [],
      "authorship_tag": "ABX9TyNKPME3r5ixEtfjb+sNVrQ7",
      "include_colab_link": true
    },
    "kernelspec": {
      "name": "python3",
      "display_name": "Python 3"
    },
    "language_info": {
      "name": "python"
    }
  },
  "cells": [
    {
      "cell_type": "markdown",
      "metadata": {
        "id": "view-in-github",
        "colab_type": "text"
      },
      "source": [
        "<a href=\"https://colab.research.google.com/github/KondoKoyo/EU_M_Math/blob/main/chap04_cm_02.ipynb\" target=\"_parent\"><img src=\"https://colab.research.google.com/assets/colab-badge.svg\" alt=\"Open In Colab\"/></a>"
      ]
    },
    {
      "cell_type": "code",
      "execution_count": null,
      "metadata": {
        "colab": {
          "base_uri": "https://localhost:8080/"
        },
        "id": "Z_WzKpITktvC",
        "outputId": "b0642084-51a1-488d-b41a-6f972654c7cc"
      },
      "outputs": [
        {
          "output_type": "stream",
          "name": "stdout",
          "text": [
            "数学の勉強時間平均： 2.0340314136125652\n",
            "ポルトガル語の勉強時間平均： 2.0392670157068062\n",
            "p値= 0.5643842756976525\n"
          ]
        }
      ],
      "source": [
        "from urllib import request\n",
        "import numpy as np\n",
        "import scipy as sp\n",
        "import pandas as pd\n",
        "from pandas  import Series,DataFrame\n",
        "\n",
        "import matplotlib.pyplot as plt\n",
        "import matplotlib as mpl\n",
        "import seaborn as sns\n",
        "sns.set()\n",
        "%matplotlib inline\n",
        "%precision 3\n",
        "\n",
        "import requests, zipfile\n",
        "from io import StringIO\n",
        "import io\n",
        "\n",
        "# from sklearn import  liner_model\n",
        "url = 'https://archive.ics.uci.edu/ml/machine-learning-databases/00356/student.zip'\n",
        "\n",
        "r= requests.get(url,stream=True)\n",
        "z = zipfile.ZipFile(io.BytesIO(r.content))\n",
        "z.extractall()\n",
        "\n",
        "student_data_math = pd.read_csv('student-mat.csv',sep=';')\n",
        "student_data_por =  pd.read_csv('student-por.csv',sep=';')\n",
        "student_data_merge = pd.merge(student_data_math,student_data_por,on = ['school','sex','age','address','famsize','Pstatus','Medu','Fedu','Mjob','Fjob','reason','nursery','internet'],how = 'inner',suffixes = ('_math','_por'))\n",
        "from scipy import stats\n",
        "print('数学の勉強時間平均：',student_data_merge.studytime_math.mean())\n",
        "print('ポルトガル語の勉強時間平均：',student_data_merge.studytime_por.mean())\n",
        "\n",
        "t,p = stats.ttest_rel(student_data_merge.studytime_math,student_data_merge.studytime_por)\n",
        "print('p値=',p)"
      ]
    }
  ]
}